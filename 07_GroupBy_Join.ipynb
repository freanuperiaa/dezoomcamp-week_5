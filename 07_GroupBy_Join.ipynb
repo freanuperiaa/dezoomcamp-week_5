{
 "cells": [
  {
   "cell_type": "code",
   "execution_count": 1,
   "id": "687d92ae-ff9a-41eb-b690-797ba05f5a1c",
   "metadata": {},
   "outputs": [],
   "source": [
    "import pyspark\n",
    "from pyspark.sql import SparkSession"
   ]
  },
  {
   "cell_type": "code",
   "execution_count": 2,
   "id": "a78ccb30-12af-45d0-a3c9-40a07019b516",
   "metadata": {},
   "outputs": [
    {
     "name": "stdout",
     "output_type": "stream",
     "text": [
      "24/03/03 14:20:00 WARN Utils: Your hostname, coy-pc resolves to a loopback address: 127.0.1.1; using 172.19.138.153 instead (on interface eth0)\n",
      "24/03/03 14:20:00 WARN Utils: Set SPARK_LOCAL_IP if you need to bind to another address\n"
     ]
    },
    {
     "name": "stderr",
     "output_type": "stream",
     "text": [
      "Setting default log level to \"WARN\".\n",
      "To adjust logging level use sc.setLogLevel(newLevel). For SparkR, use setLogLevel(newLevel).\n"
     ]
    },
    {
     "name": "stdout",
     "output_type": "stream",
     "text": [
      "24/03/03 14:20:02 WARN NativeCodeLoader: Unable to load native-hadoop library for your platform... using builtin-java classes where applicable\n",
      "24/03/03 14:20:02 WARN Utils: Service 'SparkUI' could not bind on port 4040. Attempting port 4041.\n"
     ]
    }
   ],
   "source": [
    "spark = SparkSession.builder \\\n",
    "    .master(\"local[*]\") \\\n",
    "    .appName('test') \\\n",
    "    .getOrCreate()"
   ]
  },
  {
   "cell_type": "code",
   "execution_count": 3,
   "id": "7a226e08-1b54-496c-8b8f-eb7b1ba001e4",
   "metadata": {},
   "outputs": [],
   "source": [
    "df_green = spark.read.parquet('data/pq/green/*/*')"
   ]
  },
  {
   "cell_type": "code",
   "execution_count": 5,
   "id": "b42efbb2-e58c-41bb-8b7e-227105d7ba8e",
   "metadata": {},
   "outputs": [],
   "source": [
    "df_green.createOrReplaceTempView('green')"
   ]
  },
  {
   "cell_type": "code",
   "execution_count": 13,
   "id": "d0825a5f-2a38-4d84-b28e-fa63c2b8a3ae",
   "metadata": {},
   "outputs": [],
   "source": [
    "df_green_revenue = spark.sql(\"\"\"\n",
    "\n",
    "    SELECT \n",
    "    -- Reveneue grouping \n",
    "    date_trunc('hour', lpep_pickup_datetime) as hour, \n",
    "    pulocationid as zone,\n",
    "\n",
    "    -- Revenue calculation \n",
    "    SUM(total_amount) as amount,\n",
    "    COUNT(1) AS number_records\n",
    "\n",
    "    FROM\n",
    "        green\n",
    "    WHERE\n",
    "        lpep_pickup_datetime >= '2020-01-01'\n",
    "    GROUP BY\n",
    "        1,2\n",
    "    -- ORDER BY\n",
    "    --    1,2\n",
    "\n",
    "\"\"\")"
   ]
  },
  {
   "cell_type": "code",
   "execution_count": 14,
   "id": "da53158f-e36f-464d-8d04-4ce72de9631f",
   "metadata": {},
   "outputs": [
    {
     "name": "stdout",
     "output_type": "stream",
     "text": [
      "+-------------------+----+------------------+--------------+\n",
      "|               hour|zone|            amount|number_records|\n",
      "+-------------------+----+------------------+--------------+\n",
      "|2020-01-09 17:00:00| 225|             82.46|             5|\n",
      "|2020-01-02 21:00:00|  74| 506.4200000000001|            38|\n",
      "|2020-01-27 13:00:00|  24|            203.57|             7|\n",
      "|2020-01-06 16:00:00|  43|343.68000000000006|            21|\n",
      "|2020-01-05 08:00:00|  55|132.51999999999998|             4|\n",
      "|2020-01-20 15:00:00|  82|            380.22|            27|\n",
      "|2020-01-28 22:00:00| 255|217.10999999999999|            13|\n",
      "|2020-01-27 09:00:00| 177|             102.8|             3|\n",
      "|2020-01-26 20:00:00|  35|             48.61|             2|\n",
      "|2020-01-29 08:00:00| 223|            119.93|             8|\n",
      "|2020-01-16 10:00:00|  82|273.62000000000006|            18|\n",
      "|2020-01-24 18:00:00| 210|            124.58|             6|\n",
      "|2020-01-02 23:00:00|  66|            258.49|            11|\n",
      "|2020-01-14 14:00:00| 226| 99.13999999999999|             3|\n",
      "|2020-01-27 09:00:00|  14|59.849999999999994|             5|\n",
      "|2020-01-15 19:00:00| 181|227.19000000000003|            12|\n",
      "|2020-01-24 18:00:00| 260| 383.2900000000001|            28|\n",
      "|2020-01-02 10:00:00|   7|217.29000000000002|            17|\n",
      "|2020-01-21 20:00:00| 152|             83.39|             4|\n",
      "|2020-01-20 09:00:00|  17|            233.07|             7|\n",
      "+-------------------+----+------------------+--------------+\n",
      "only showing top 20 rows\n",
      "\n"
     ]
    }
   ],
   "source": [
    "df_green_revenue.show()"
   ]
  },
  {
   "cell_type": "code",
   "execution_count": 15,
   "id": "7ee16d60-44be-46cb-a89b-2335f8be096c",
   "metadata": {},
   "outputs": [
    {
     "name": "stdout",
     "output_type": "stream",
     "text": [
      "24/03/03 14:29:49 WARN MemoryManager: Total allocation exceeds 95.00% (1,020,054,720 bytes) of heap memory\n",
      "Scaling row group sizes to 95.00% for 8 writers\n",
      "24/03/03 14:29:49 WARN MemoryManager: Total allocation exceeds 95.00% (1,020,054,720 bytes) of heap memory\n",
      "Scaling row group sizes to 84.44% for 9 writers\n",
      "24/03/03 14:29:50 WARN MemoryManager: Total allocation exceeds 95.00% (1,020,054,720 bytes) of heap memory\n",
      "Scaling row group sizes to 76.00% for 10 writers\n",
      "24/03/03 14:29:50 WARN MemoryManager: Total allocation exceeds 95.00% (1,020,054,720 bytes) of heap memory\n",
      "Scaling row group sizes to 69.09% for 11 writers\n",
      "24/03/03 14:29:50 WARN MemoryManager: Total allocation exceeds 95.00% (1,020,054,720 bytes) of heap memory\n",
      "Scaling row group sizes to 63.33% for 12 writers\n",
      "24/03/03 14:29:50 WARN MemoryManager: Total allocation exceeds 95.00% (1,020,054,720 bytes) of heap memory\n",
      "Scaling row group sizes to 58.46% for 13 writers\n",
      "24/03/03 14:29:50 WARN MemoryManager: Total allocation exceeds 95.00% (1,020,054,720 bytes) of heap memory\n",
      "Scaling row group sizes to 54.29% for 14 writers\n",
      "24/03/03 14:29:50 WARN MemoryManager: Total allocation exceeds 95.00% (1,020,054,720 bytes) of heap memory\n",
      "Scaling row group sizes to 50.67% for 15 writers\n",
      "24/03/03 14:29:50 WARN MemoryManager: Total allocation exceeds 95.00% (1,020,054,720 bytes) of heap memory\n",
      "Scaling row group sizes to 54.29% for 14 writers\n",
      "24/03/03 14:29:50 WARN MemoryManager: Total allocation exceeds 95.00% (1,020,054,720 bytes) of heap memory\n",
      "Scaling row group sizes to 58.46% for 13 writers\n",
      "24/03/03 14:29:50 WARN MemoryManager: Total allocation exceeds 95.00% (1,020,054,720 bytes) of heap memory\n",
      "Scaling row group sizes to 63.33% for 12 writers\n",
      "24/03/03 14:29:50 WARN MemoryManager: Total allocation exceeds 95.00% (1,020,054,720 bytes) of heap memory\n",
      "Scaling row group sizes to 69.09% for 11 writers\n",
      "24/03/03 14:29:50 WARN MemoryManager: Total allocation exceeds 95.00% (1,020,054,720 bytes) of heap memory\n",
      "Scaling row group sizes to 76.00% for 10 writers\n",
      "24/03/03 14:29:50 WARN MemoryManager: Total allocation exceeds 95.00% (1,020,054,720 bytes) of heap memory\n",
      "Scaling row group sizes to 84.44% for 9 writers\n",
      "24/03/03 14:29:50 WARN MemoryManager: Total allocation exceeds 95.00% (1,020,054,720 bytes) of heap memory\n",
      "Scaling row group sizes to 95.00% for 8 writers\n"
     ]
    }
   ],
   "source": [
    "df_green_revenue.write.parquet('data/report/revenue/green', mode=\"overwrite\")"
   ]
  },
  {
   "cell_type": "code",
   "execution_count": 16,
   "id": "439e08d9-f9f2-4388-9ccd-63f6ec895bcf",
   "metadata": {},
   "outputs": [],
   "source": [
    "df_yellow = spark.read.parquet('data/pq/yellow/*/*')\n",
    "df_yellow.createOrReplaceTempView('yellow')"
   ]
  },
  {
   "cell_type": "code",
   "execution_count": 18,
   "id": "ae68cc02-64d1-4151-8478-740a22028124",
   "metadata": {},
   "outputs": [],
   "source": [
    "df_yellow_revenue = spark.sql(\"\"\"\n",
    "\n",
    "    SELECT \n",
    "    -- Reveneue grouping \n",
    "    date_trunc('hour', tpep_pickup_datetime) as hour, \n",
    "    pulocationid as zone,\n",
    "\n",
    "    -- Revenue calculation \n",
    "    SUM(total_amount) as amount,\n",
    "    COUNT(1) AS number_records\n",
    "\n",
    "    FROM\n",
    "        yellow\n",
    "    WHERE\n",
    "        tpep_pickup_datetime >= '2020-01-01'\n",
    "    GROUP BY\n",
    "        1,2\n",
    "    -- ORDER BY\n",
    "    --    1,2\n",
    "\n",
    "\"\"\")"
   ]
  },
  {
   "cell_type": "code",
   "execution_count": 19,
   "id": "2963b32b-3f35-4b20-848d-e496b7f74a2e",
   "metadata": {},
   "outputs": [
    {
     "name": "stderr",
     "output_type": "stream",
     "text": [
      "[Stage 25:=====================================================>  (20 + 1) / 21]\r"
     ]
    },
    {
     "name": "stdout",
     "output_type": "stream",
     "text": [
      "24/03/03 14:39:29 WARN MemoryManager: Total allocation exceeds 95.00% (1,020,054,720 bytes) of heap memory\n",
      "Scaling row group sizes to 95.00% for 8 writers\n",
      "24/03/03 14:39:29 WARN MemoryManager: Total allocation exceeds 95.00% (1,020,054,720 bytes) of heap memory\n",
      "Scaling row group sizes to 84.44% for 9 writers\n",
      "24/03/03 14:39:29 WARN MemoryManager: Total allocation exceeds 95.00% (1,020,054,720 bytes) of heap memory\n",
      "Scaling row group sizes to 76.00% for 10 writers\n",
      "24/03/03 14:39:29 WARN MemoryManager: Total allocation exceeds 95.00% (1,020,054,720 bytes) of heap memory\n",
      "Scaling row group sizes to 69.09% for 11 writers\n",
      "24/03/03 14:39:29 WARN MemoryManager: Total allocation exceeds 95.00% (1,020,054,720 bytes) of heap memory\n",
      "Scaling row group sizes to 63.33% for 12 writers\n",
      "24/03/03 14:39:29 WARN MemoryManager: Total allocation exceeds 95.00% (1,020,054,720 bytes) of heap memory\n",
      "Scaling row group sizes to 58.46% for 13 writers\n",
      "24/03/03 14:39:29 WARN MemoryManager: Total allocation exceeds 95.00% (1,020,054,720 bytes) of heap memory\n",
      "Scaling row group sizes to 54.29% for 14 writers\n",
      "24/03/03 14:39:29 WARN MemoryManager: Total allocation exceeds 95.00% (1,020,054,720 bytes) of heap memory\n",
      "Scaling row group sizes to 50.67% for 15 writers\n",
      "24/03/03 14:39:29 WARN MemoryManager: Total allocation exceeds 95.00% (1,020,054,720 bytes) of heap memory\n",
      "Scaling row group sizes to 47.50% for 16 writers\n",
      "24/03/03 14:39:29 WARN MemoryManager: Total allocation exceeds 95.00% (1,020,054,720 bytes) of heap memory\n",
      "Scaling row group sizes to 50.67% for 15 writers\n",
      "24/03/03 14:39:29 WARN MemoryManager: Total allocation exceeds 95.00% (1,020,054,720 bytes) of heap memory\n",
      "Scaling row group sizes to 54.29% for 14 writers\n",
      "24/03/03 14:39:29 WARN MemoryManager: Total allocation exceeds 95.00% (1,020,054,720 bytes) of heap memory\n",
      "Scaling row group sizes to 58.46% for 13 writers\n",
      "24/03/03 14:39:29 WARN MemoryManager: Total allocation exceeds 95.00% (1,020,054,720 bytes) of heap memory\n",
      "Scaling row group sizes to 63.33% for 12 writers\n",
      "24/03/03 14:39:29 WARN MemoryManager: Total allocation exceeds 95.00% (1,020,054,720 bytes) of heap memory\n",
      "Scaling row group sizes to 69.09% for 11 writers\n",
      "24/03/03 14:39:29 WARN MemoryManager: Total allocation exceeds 95.00% (1,020,054,720 bytes) of heap memory\n",
      "Scaling row group sizes to 76.00% for 10 writers\n",
      "24/03/03 14:39:29 WARN MemoryManager: Total allocation exceeds 95.00% (1,020,054,720 bytes) of heap memory\n",
      "Scaling row group sizes to 84.44% for 9 writers\n",
      "24/03/03 14:39:29 WARN MemoryManager: Total allocation exceeds 95.00% (1,020,054,720 bytes) of heap memory\n",
      "Scaling row group sizes to 95.00% for 8 writers\n"
     ]
    },
    {
     "name": "stderr",
     "output_type": "stream",
     "text": [
      "                                                                                \r"
     ]
    }
   ],
   "source": [
    "df_yellow_revenue.write.parquet('data/report/revenue/yellow', mode='overwrite')"
   ]
  },
  {
   "cell_type": "code",
   "execution_count": 22,
   "id": "3d852590-fb69-41e8-ab50-f0b7ac9911a1",
   "metadata": {},
   "outputs": [],
   "source": [
    "# rename columns so that we can see them nicely in joined table\n",
    "df_green_revenue_renamed = df_green_revenue \\\n",
    "        .withColumnRenamed('amount', 'green_amount') \\\n",
    "        .withColumnRenamed('number_records', 'green_number_records') \n",
    "\n",
    "df_yellow_revenue_renamed = df_yellow_revenue \\\n",
    "        .withColumnRenamed('amount', 'yellow_amount') \\\n",
    "        .withColumnRenamed('number_records', 'yellow_number_records') "
   ]
  },
  {
   "cell_type": "code",
   "execution_count": 23,
   "id": "b206c3ca-2959-43be-a3f5-7bae6819d615",
   "metadata": {},
   "outputs": [],
   "source": [
    "df_join = df_green_revenue_renamed.join(\n",
    "    df_yellow_revenue_renamed, \n",
    "    on=['hour', 'zone'],\n",
    "    how='outer'\n",
    ")"
   ]
  },
  {
   "cell_type": "code",
   "execution_count": 24,
   "id": "c28ee6b7-b6e4-458f-b19e-040eba1d7f19",
   "metadata": {},
   "outputs": [
    {
     "name": "stderr",
     "output_type": "stream",
     "text": [
      "[Stage 34:==========================================>             (16 + 5) / 21]\r"
     ]
    },
    {
     "name": "stdout",
     "output_type": "stream",
     "text": [
      "+-------------------+----+------------------+--------------------+------------------+---------------------+\n",
      "|               hour|zone|      green_amount|green_number_records|     yellow_amount|yellow_number_records|\n",
      "+-------------------+----+------------------+--------------------+------------------+---------------------+\n",
      "|2020-01-01 00:00:00|  65|199.48999999999998|                  10|            409.35|                   19|\n",
      "|2020-01-01 00:00:00|  68|              null|                null| 7825.069999999994|                  396|\n",
      "|2020-01-01 00:00:00|  88|              null|                null| 823.8000000000001|                   36|\n",
      "|2020-01-01 00:00:00|  93|              null|                null|            210.28|                    3|\n",
      "|2020-01-01 00:00:00| 106|             10.56|                   1|              null|                 null|\n",
      "|2020-01-01 00:00:00| 194|              null|                null|            148.71|                    2|\n",
      "|2020-01-01 00:00:00| 248|              null|                null|              25.5|                    1|\n",
      "|2020-01-01 01:00:00|  13|              null|                null|1569.2399999999998|                   66|\n",
      "|2020-01-01 01:00:00|  18|              null|                null|              36.0|                    1|\n",
      "|2020-01-01 01:00:00|  67|              null|                null|              17.8|                    1|\n",
      "|2020-01-01 01:00:00|  83|             87.34|                   8|              31.1|                    2|\n",
      "|2020-01-01 01:00:00| 115|              null|                null|              54.6|                    1|\n",
      "|2020-01-01 01:00:00| 126|              15.8|                   1|47.599999999999994|                    3|\n",
      "|2020-01-01 01:00:00| 134|             34.86|                   4|              9.75|                    1|\n",
      "|2020-01-01 01:00:00| 161|              null|                null| 9189.139999999998|                  483|\n",
      "|2020-01-01 01:00:00| 231|              null|                null| 6548.459999999997|                  310|\n",
      "|2020-01-01 02:00:00|  21|             43.95|                   2|              null|                 null|\n",
      "|2020-01-01 02:00:00|  35|            193.82|                   5|            104.94|                    3|\n",
      "|2020-01-01 02:00:00|  47|              null|                null|             30.32|                    1|\n",
      "|2020-01-01 02:00:00|  60|              null|                null|             35.18|                    1|\n",
      "+-------------------+----+------------------+--------------------+------------------+---------------------+\n",
      "only showing top 20 rows\n",
      "\n"
     ]
    },
    {
     "name": "stderr",
     "output_type": "stream",
     "text": [
      "                                                                                \r"
     ]
    }
   ],
   "source": [
    "df_join.show()"
   ]
  },
  {
   "cell_type": "code",
   "execution_count": 25,
   "id": "06f567f6-71f1-4564-b4e3-023ff06cb994",
   "metadata": {},
   "outputs": [
    {
     "name": "stderr",
     "output_type": "stream",
     "text": [
      "[Stage 39:=====================================================>  (20 + 1) / 21]\r"
     ]
    },
    {
     "name": "stdout",
     "output_type": "stream",
     "text": [
      "24/03/03 15:02:46 WARN MemoryManager: Total allocation exceeds 95.00% (1,020,054,720 bytes) of heap memory\n",
      "Scaling row group sizes to 95.00% for 8 writers\n",
      "24/03/03 15:02:46 WARN MemoryManager: Total allocation exceeds 95.00% (1,020,054,720 bytes) of heap memory\n",
      "Scaling row group sizes to 84.44% for 9 writers\n",
      "24/03/03 15:02:46 WARN MemoryManager: Total allocation exceeds 95.00% (1,020,054,720 bytes) of heap memory\n",
      "Scaling row group sizes to 76.00% for 10 writers\n",
      "24/03/03 15:02:46 WARN MemoryManager: Total allocation exceeds 95.00% (1,020,054,720 bytes) of heap memory\n",
      "Scaling row group sizes to 69.09% for 11 writers\n",
      "24/03/03 15:02:46 WARN MemoryManager: Total allocation exceeds 95.00% (1,020,054,720 bytes) of heap memory\n",
      "Scaling row group sizes to 63.33% for 12 writers\n",
      "24/03/03 15:02:46 WARN MemoryManager: Total allocation exceeds 95.00% (1,020,054,720 bytes) of heap memory\n",
      "Scaling row group sizes to 58.46% for 13 writers\n",
      "24/03/03 15:02:46 WARN MemoryManager: Total allocation exceeds 95.00% (1,020,054,720 bytes) of heap memory\n",
      "Scaling row group sizes to 54.29% for 14 writers\n",
      "24/03/03 15:02:46 WARN MemoryManager: Total allocation exceeds 95.00% (1,020,054,720 bytes) of heap memory\n",
      "Scaling row group sizes to 50.67% for 15 writers\n",
      "24/03/03 15:02:46 WARN MemoryManager: Total allocation exceeds 95.00% (1,020,054,720 bytes) of heap memory\n",
      "Scaling row group sizes to 47.50% for 16 writers\n"
     ]
    },
    {
     "name": "stderr",
     "output_type": "stream",
     "text": [
      "[Stage 42:>                                                       (0 + 16) / 17]\r"
     ]
    },
    {
     "name": "stdout",
     "output_type": "stream",
     "text": [
      "24/03/03 15:02:46 WARN MemoryManager: Total allocation exceeds 95.00% (1,020,054,720 bytes) of heap memory\n",
      "Scaling row group sizes to 50.67% for 15 writers\n",
      "24/03/03 15:02:47 WARN MemoryManager: Total allocation exceeds 95.00% (1,020,054,720 bytes) of heap memory\n",
      "Scaling row group sizes to 54.29% for 14 writers\n",
      "24/03/03 15:02:47 WARN MemoryManager: Total allocation exceeds 95.00% (1,020,054,720 bytes) of heap memory\n",
      "Scaling row group sizes to 58.46% for 13 writers\n",
      "24/03/03 15:02:47 WARN MemoryManager: Total allocation exceeds 95.00% (1,020,054,720 bytes) of heap memory\n",
      "Scaling row group sizes to 63.33% for 12 writers\n",
      "24/03/03 15:02:47 WARN MemoryManager: Total allocation exceeds 95.00% (1,020,054,720 bytes) of heap memory\n",
      "Scaling row group sizes to 69.09% for 11 writers\n",
      "24/03/03 15:02:47 WARN MemoryManager: Total allocation exceeds 95.00% (1,020,054,720 bytes) of heap memory\n",
      "Scaling row group sizes to 76.00% for 10 writers\n",
      "24/03/03 15:02:47 WARN MemoryManager: Total allocation exceeds 95.00% (1,020,054,720 bytes) of heap memory\n",
      "Scaling row group sizes to 84.44% for 9 writers\n",
      "24/03/03 15:02:47 WARN MemoryManager: Total allocation exceeds 95.00% (1,020,054,720 bytes) of heap memory\n",
      "Scaling row group sizes to 95.00% for 8 writers\n"
     ]
    },
    {
     "name": "stderr",
     "output_type": "stream",
     "text": [
      "                                                                                \r"
     ]
    }
   ],
   "source": [
    "df_join.write.parquet('data/report/revenue/total')"
   ]
  },
  {
   "cell_type": "code",
   "execution_count": null,
   "id": "e8467d95-a15c-487f-9b2b-c71e6b057b53",
   "metadata": {},
   "outputs": [],
   "source": [
    "# doing it all again but this time from a materialized (parquet) data (di na irerepeat steps)"
   ]
  },
  {
   "cell_type": "code",
   "execution_count": 26,
   "id": "fd2405b5-ecd5-493f-b6f7-a479f613601c",
   "metadata": {},
   "outputs": [],
   "source": [
    "df_green_revenue = spark.read.parquet('data/report/revenue/green')\n",
    "df_yellow_revenue = spark.read.parquet('data/report/revenue/yellow')"
   ]
  },
  {
   "cell_type": "code",
   "execution_count": 27,
   "id": "a8f05ca4-cd2b-40f9-9566-0627547656e5",
   "metadata": {},
   "outputs": [],
   "source": [
    "\n",
    "# rename columns so that we can see them nicely in joined table\n",
    "df_green_revenue_renamed = df_green_revenue \\\n",
    "        .withColumnRenamed('amount', 'green_amount') \\\n",
    "        .withColumnRenamed('number_records', 'green_number_records') \n",
    "\n",
    "df_yellow_revenue_renamed = df_yellow_revenue \\\n",
    "        .withColumnRenamed('amount', 'yellow_amount') \\\n",
    "        .withColumnRenamed('number_records', 'yellow_number_records') "
   ]
  },
  {
   "cell_type": "code",
   "execution_count": 28,
   "id": "3e1bf54f-c527-4bd6-8ee1-a3519d8ba528",
   "metadata": {},
   "outputs": [],
   "source": [
    "df_join = df_green_revenue_renamed.join(\n",
    "    df_yellow_revenue_renamed, \n",
    "    on=['hour', 'zone'],\n",
    "    how='outer'\n",
    ")"
   ]
  },
  {
   "cell_type": "code",
   "execution_count": 29,
   "id": "c51cde25-1b6c-422f-b3c3-0ae851a4b59c",
   "metadata": {},
   "outputs": [
    {
     "name": "stdout",
     "output_type": "stream",
     "text": [
      "+-------------------+----+------------------+--------------------+------------------+---------------------+\n",
      "|               hour|zone|      green_amount|green_number_records|     yellow_amount|yellow_number_records|\n",
      "+-------------------+----+------------------+--------------------+------------------+---------------------+\n",
      "|2020-01-01 00:00:00|  65|199.48999999999998|                  10|            409.35|                   19|\n",
      "|2020-01-01 00:00:00|  68|              null|                null| 7825.069999999994|                  396|\n",
      "|2020-01-01 00:00:00|  88|              null|                null| 823.8000000000001|                   36|\n",
      "|2020-01-01 00:00:00|  93|              null|                null|            210.28|                    3|\n",
      "|2020-01-01 00:00:00| 106|             10.56|                   1|              null|                 null|\n",
      "|2020-01-01 00:00:00| 194|              null|                null|            148.71|                    2|\n",
      "|2020-01-01 00:00:00| 248|              null|                null|              25.5|                    1|\n",
      "|2020-01-01 01:00:00|  13|              null|                null|1569.2399999999998|                   66|\n",
      "|2020-01-01 01:00:00|  18|              null|                null|              36.0|                    1|\n",
      "|2020-01-01 01:00:00|  67|              null|                null|              17.8|                    1|\n",
      "|2020-01-01 01:00:00|  83|             87.34|                   8|              31.1|                    2|\n",
      "|2020-01-01 01:00:00| 115|              null|                null|              54.6|                    1|\n",
      "|2020-01-01 01:00:00| 126|              15.8|                   1|47.599999999999994|                    3|\n",
      "|2020-01-01 01:00:00| 134|             34.86|                   4|              9.75|                    1|\n",
      "|2020-01-01 01:00:00| 161|              null|                null| 9189.139999999998|                  483|\n",
      "|2020-01-01 01:00:00| 231|              null|                null| 6548.459999999997|                  310|\n",
      "|2020-01-01 02:00:00|  21|             43.95|                   2|              null|                 null|\n",
      "|2020-01-01 02:00:00|  35|            193.82|                   5|            104.94|                    3|\n",
      "|2020-01-01 02:00:00|  47|              null|                null|             30.32|                    1|\n",
      "|2020-01-01 02:00:00|  60|              null|                null|             35.18|                    1|\n",
      "+-------------------+----+------------------+--------------------+------------------+---------------------+\n",
      "only showing top 20 rows\n",
      "\n"
     ]
    }
   ],
   "source": [
    "df_join.show()"
   ]
  },
  {
   "cell_type": "code",
   "execution_count": 30,
   "id": "67a44827-0aff-480d-a0a7-183bf8628c3e",
   "metadata": {},
   "outputs": [],
   "source": [
    "# plot twist:\n",
    "# so in the Spark Master console (localhost:4040)\n",
    "# the job plan does not differ vs on previous join haha"
   ]
  },
  {
   "cell_type": "code",
   "execution_count": null,
   "id": "89e2c845-060c-472f-88ab-10855819698e",
   "metadata": {},
   "outputs": [],
   "source": [
    "# joining on large and small tables"
   ]
  },
  {
   "cell_type": "code",
   "execution_count": 31,
   "id": "4a4ed6f3-f238-4dab-a9f5-1ff8d9b6d94e",
   "metadata": {},
   "outputs": [],
   "source": [
    "df_join = spark.read.parquet('data/report/revenue/total')"
   ]
  },
  {
   "cell_type": "code",
   "execution_count": 32,
   "id": "b1c22545-0e16-4af3-8e98-ec99984f9df9",
   "metadata": {},
   "outputs": [
    {
     "name": "stdout",
     "output_type": "stream",
     "text": [
      "+-------------------+----+------------------+--------------------+------------------+---------------------+\n",
      "|               hour|zone|      green_amount|green_number_records|     yellow_amount|yellow_number_records|\n",
      "+-------------------+----+------------------+--------------------+------------------+---------------------+\n",
      "|2020-01-01 00:00:00|  17|            195.03|                   9|220.20999999999998|                    8|\n",
      "|2020-01-01 00:00:00|  77| 75.99000000000001|                   2|            134.24|                    3|\n",
      "|2020-01-01 00:00:00|  95|202.20000000000002|                  15|               6.3|                    1|\n",
      "|2020-01-01 00:00:00| 126|              null|                null|             170.6|                    2|\n",
      "|2020-01-01 00:00:00| 133|              null|                null|              27.3|                    1|\n",
      "|2020-01-01 00:00:00| 161|              null|                null|           9410.21|                  488|\n",
      "|2020-01-01 00:00:00| 228|             70.12|                   4|              31.0|                    1|\n",
      "|2020-01-01 00:00:00| 243|205.32000000000002|                  10|217.53000000000003|                    9|\n",
      "|2020-01-01 00:00:00| 250|114.17000000000002|                   6|              null|                 null|\n",
      "|2020-01-01 00:00:00| 262|              null|                null|2239.5200000000004|                  149|\n",
      "|2020-01-01 01:00:00|  52|             51.52|                   3|254.55999999999997|                   14|\n",
      "|2020-01-01 01:00:00|  63|              null|                null|             85.71|                    2|\n",
      "|2020-01-01 01:00:00|  75|            292.89|                  21|1699.8500000000006|                  108|\n",
      "|2020-01-01 01:00:00|  85|            161.87|                   4|             89.59|                    4|\n",
      "|2020-01-01 01:00:00| 120|              null|                null|              11.8|                    1|\n",
      "|2020-01-01 01:00:00| 127|              null|                null|153.83999999999997|                   11|\n",
      "|2020-01-01 01:00:00| 130|            205.72|                   9|              60.0|                    1|\n",
      "|2020-01-01 01:00:00| 136|35.230000000000004|                   2|              null|                 null|\n",
      "|2020-01-01 01:00:00| 148|              null|                null| 8202.779999999997|                  412|\n",
      "|2020-01-01 01:00:00| 188|181.03000000000003|                   7|            115.81|                    5|\n",
      "+-------------------+----+------------------+--------------------+------------------+---------------------+\n",
      "only showing top 20 rows\n",
      "\n"
     ]
    }
   ],
   "source": [
    "df_join.show()"
   ]
  },
  {
   "cell_type": "code",
   "execution_count": 34,
   "id": "9c64f38f-02dc-4429-b889-220df28de46f",
   "metadata": {},
   "outputs": [],
   "source": [
    "df_zones = spark.read.parquet('zones/')"
   ]
  },
  {
   "cell_type": "code",
   "execution_count": 35,
   "id": "03b790ef-a6e7-4c4d-8e58-09a57f7bca71",
   "metadata": {},
   "outputs": [
    {
     "name": "stdout",
     "output_type": "stream",
     "text": [
      "+----------+-------------+--------------------+------------+\n",
      "|LocationID|      Borough|                Zone|service_zone|\n",
      "+----------+-------------+--------------------+------------+\n",
      "|         1|          EWR|      Newark Airport|         EWR|\n",
      "|         2|       Queens|         Jamaica Bay|   Boro Zone|\n",
      "|         3|        Bronx|Allerton/Pelham G...|   Boro Zone|\n",
      "|         4|    Manhattan|       Alphabet City| Yellow Zone|\n",
      "|         5|Staten Island|       Arden Heights|   Boro Zone|\n",
      "|         6|Staten Island|Arrochar/Fort Wad...|   Boro Zone|\n",
      "|         7|       Queens|             Astoria|   Boro Zone|\n",
      "|         8|       Queens|        Astoria Park|   Boro Zone|\n",
      "|         9|       Queens|          Auburndale|   Boro Zone|\n",
      "|        10|       Queens|        Baisley Park|   Boro Zone|\n",
      "|        11|     Brooklyn|          Bath Beach|   Boro Zone|\n",
      "|        12|    Manhattan|        Battery Park| Yellow Zone|\n",
      "|        13|    Manhattan|   Battery Park City| Yellow Zone|\n",
      "|        14|     Brooklyn|           Bay Ridge|   Boro Zone|\n",
      "|        15|       Queens|Bay Terrace/Fort ...|   Boro Zone|\n",
      "|        16|       Queens|             Bayside|   Boro Zone|\n",
      "|        17|     Brooklyn|             Bedford|   Boro Zone|\n",
      "|        18|        Bronx|        Bedford Park|   Boro Zone|\n",
      "|        19|       Queens|           Bellerose|   Boro Zone|\n",
      "|        20|        Bronx|             Belmont|   Boro Zone|\n",
      "+----------+-------------+--------------------+------------+\n",
      "only showing top 20 rows\n",
      "\n"
     ]
    }
   ],
   "source": [
    "df_zones.show()"
   ]
  },
  {
   "cell_type": "code",
   "execution_count": 36,
   "id": "bdc7dc96-81ff-490c-93e0-0630fdb52db5",
   "metadata": {},
   "outputs": [],
   "source": [
    "df_result = df_join.join(\n",
    "    df_zones,\n",
    "    df_join.zone == df_zones.LocationID,\n",
    ")"
   ]
  },
  {
   "cell_type": "code",
   "execution_count": 38,
   "id": "f5dd9e72-78d4-4424-b8d8-175b4fe3abf8",
   "metadata": {},
   "outputs": [
    {
     "name": "stdout",
     "output_type": "stream",
     "text": [
      "+-------------------+----+------------------+--------------------+------------------+---------------------+---------+--------------------+------------+\n",
      "|               hour|zone|      green_amount|green_number_records|     yellow_amount|yellow_number_records|  Borough|                Zone|service_zone|\n",
      "+-------------------+----+------------------+--------------------+------------------+---------------------+---------+--------------------+------------+\n",
      "|2020-01-01 00:00:00|  17|            195.03|                   9|220.20999999999998|                    8| Brooklyn|             Bedford|   Boro Zone|\n",
      "|2020-01-01 00:00:00|  77| 75.99000000000001|                   2|            134.24|                    3| Brooklyn|East New York/Pen...|   Boro Zone|\n",
      "|2020-01-01 00:00:00|  95|202.20000000000002|                  15|               6.3|                    1|   Queens|        Forest Hills|   Boro Zone|\n",
      "|2020-01-01 00:00:00| 126|              null|                null|             170.6|                    2|    Bronx|         Hunts Point|   Boro Zone|\n",
      "|2020-01-01 00:00:00| 133|              null|                null|              27.3|                    1| Brooklyn|          Kensington|   Boro Zone|\n",
      "|2020-01-01 00:00:00| 161|              null|                null|           9410.21|                  488|Manhattan|      Midtown Center| Yellow Zone|\n",
      "|2020-01-01 00:00:00| 228|             70.12|                   4|              31.0|                    1| Brooklyn|    Sunset Park West|   Boro Zone|\n",
      "|2020-01-01 00:00:00| 243|205.32000000000002|                  10|217.53000000000003|                    9|Manhattan|Washington Height...|   Boro Zone|\n",
      "|2020-01-01 00:00:00| 250|114.17000000000002|                   6|              null|                 null|    Bronx|Westchester Villa...|   Boro Zone|\n",
      "|2020-01-01 00:00:00| 262|              null|                null|2239.5200000000004|                  149|Manhattan|      Yorkville East| Yellow Zone|\n",
      "|2020-01-01 01:00:00|  52|             51.52|                   3|254.55999999999997|                   14| Brooklyn|         Cobble Hill|   Boro Zone|\n",
      "|2020-01-01 01:00:00|  63|              null|                null|             85.71|                    2| Brooklyn|       Cypress Hills|   Boro Zone|\n",
      "|2020-01-01 01:00:00|  75|            292.89|                  21|1699.8500000000006|                  108|Manhattan|   East Harlem South|   Boro Zone|\n",
      "|2020-01-01 01:00:00|  85|            161.87|                   4|             89.59|                    4| Brooklyn|             Erasmus|   Boro Zone|\n",
      "|2020-01-01 01:00:00| 120|              null|                null|              11.8|                    1|Manhattan|     Highbridge Park|   Boro Zone|\n",
      "|2020-01-01 01:00:00| 127|              null|                null|153.83999999999997|                   11|Manhattan|              Inwood|   Boro Zone|\n",
      "|2020-01-01 01:00:00| 130|            205.72|                   9|              60.0|                    1|   Queens|             Jamaica|   Boro Zone|\n",
      "|2020-01-01 01:00:00| 136|35.230000000000004|                   2|              null|                 null|    Bronx| Kingsbridge Heights|   Boro Zone|\n",
      "|2020-01-01 01:00:00| 148|              null|                null| 8202.779999999997|                  412|Manhattan|     Lower East Side| Yellow Zone|\n",
      "|2020-01-01 01:00:00| 188|181.03000000000003|                   7|            115.81|                    5| Brooklyn|Prospect-Lefferts...|   Boro Zone|\n",
      "+-------------------+----+------------------+--------------------+------------------+---------------------+---------+--------------------+------------+\n",
      "only showing top 20 rows\n",
      "\n"
     ]
    }
   ],
   "source": [
    "df_result.drop('locationid').show()"
   ]
  },
  {
   "cell_type": "code",
   "execution_count": 41,
   "id": "5bab3961-e2b3-482d-b2e9-1e8e864aa2f7",
   "metadata": {},
   "outputs": [
    {
     "name": "stdout",
     "output_type": "stream",
     "text": [
      "24/03/03 15:26:57 WARN MemoryManager: Total allocation exceeds 95.00% (1,020,054,720 bytes) of heap memory\n",
      "Scaling row group sizes to 95.00% for 8 writers\n",
      "24/03/03 15:26:57 WARN MemoryManager: Total allocation exceeds 95.00% (1,020,054,720 bytes) of heap memory\n",
      "Scaling row group sizes to 84.44% for 9 writers\n",
      "24/03/03 15:26:57 WARN MemoryManager: Total allocation exceeds 95.00% (1,020,054,720 bytes) of heap memory\n",
      "Scaling row group sizes to 76.00% for 10 writers\n",
      "24/03/03 15:26:57 WARN MemoryManager: Total allocation exceeds 95.00% (1,020,054,720 bytes) of heap memory\n",
      "Scaling row group sizes to 69.09% for 11 writers\n",
      "24/03/03 15:26:57 WARN MemoryManager: Total allocation exceeds 95.00% (1,020,054,720 bytes) of heap memory\n",
      "Scaling row group sizes to 63.33% for 12 writers\n",
      "24/03/03 15:26:57 WARN MemoryManager: Total allocation exceeds 95.00% (1,020,054,720 bytes) of heap memory\n",
      "Scaling row group sizes to 58.46% for 13 writers\n",
      "24/03/03 15:26:57 WARN MemoryManager: Total allocation exceeds 95.00% (1,020,054,720 bytes) of heap memory\n",
      "Scaling row group sizes to 54.29% for 14 writers\n",
      "24/03/03 15:26:57 WARN MemoryManager: Total allocation exceeds 95.00% (1,020,054,720 bytes) of heap memory\n",
      "Scaling row group sizes to 50.67% for 15 writers\n",
      "24/03/03 15:26:57 WARN MemoryManager: Total allocation exceeds 95.00% (1,020,054,720 bytes) of heap memory\n",
      "Scaling row group sizes to 47.50% for 16 writers\n"
     ]
    },
    {
     "name": "stderr",
     "output_type": "stream",
     "text": [
      "[Stage 59:=================================================>      (15 + 2) / 17]\r"
     ]
    },
    {
     "name": "stdout",
     "output_type": "stream",
     "text": [
      "24/03/03 15:26:57 WARN MemoryManager: Total allocation exceeds 95.00% (1,020,054,720 bytes) of heap memory\n",
      "Scaling row group sizes to 50.67% for 15 writers\n",
      "24/03/03 15:26:57 WARN MemoryManager: Total allocation exceeds 95.00% (1,020,054,720 bytes) of heap memory\n",
      "Scaling row group sizes to 54.29% for 14 writers\n",
      "24/03/03 15:26:57 WARN MemoryManager: Total allocation exceeds 95.00% (1,020,054,720 bytes) of heap memory\n",
      "Scaling row group sizes to 58.46% for 13 writers\n",
      "24/03/03 15:26:57 WARN MemoryManager: Total allocation exceeds 95.00% (1,020,054,720 bytes) of heap memory\n",
      "Scaling row group sizes to 63.33% for 12 writers\n",
      "24/03/03 15:26:57 WARN MemoryManager: Total allocation exceeds 95.00% (1,020,054,720 bytes) of heap memory\n",
      "Scaling row group sizes to 69.09% for 11 writers\n",
      "24/03/03 15:26:57 WARN MemoryManager: Total allocation exceeds 95.00% (1,020,054,720 bytes) of heap memory\n",
      "Scaling row group sizes to 63.33% for 12 writers\n",
      "24/03/03 15:26:57 WARN MemoryManager: Total allocation exceeds 95.00% (1,020,054,720 bytes) of heap memory\n",
      "Scaling row group sizes to 69.09% for 11 writers\n",
      "24/03/03 15:26:57 WARN MemoryManager: Total allocation exceeds 95.00% (1,020,054,720 bytes) of heap memory\n",
      "Scaling row group sizes to 76.00% for 10 writers\n",
      "24/03/03 15:26:57 WARN MemoryManager: Total allocation exceeds 95.00% (1,020,054,720 bytes) of heap memory\n",
      "Scaling row group sizes to 84.44% for 9 writers\n",
      "24/03/03 15:26:57 WARN MemoryManager: Total allocation exceeds 95.00% (1,020,054,720 bytes) of heap memory\n",
      "Scaling row group sizes to 95.00% for 8 writers\n"
     ]
    },
    {
     "name": "stderr",
     "output_type": "stream",
     "text": [
      "                                                                                \r"
     ]
    }
   ],
   "source": [
    "df_result.drop('locationid', 'zone').write.parquet('tmp/revenue-zones')"
   ]
  },
  {
   "cell_type": "code",
   "execution_count": null,
   "id": "e97c7def-26c7-4139-9e2d-7a4e9a4e29cc",
   "metadata": {},
   "outputs": [],
   "source": []
  }
 ],
 "metadata": {
  "kernelspec": {
   "display_name": "Python 3 (ipykernel)",
   "language": "python",
   "name": "python3"
  },
  "language_info": {
   "codemirror_mode": {
    "name": "ipython",
    "version": 3
   },
   "file_extension": ".py",
   "mimetype": "text/x-python",
   "name": "python",
   "nbconvert_exporter": "python",
   "pygments_lexer": "ipython3",
   "version": "3.10.12"
  }
 },
 "nbformat": 4,
 "nbformat_minor": 5
}
